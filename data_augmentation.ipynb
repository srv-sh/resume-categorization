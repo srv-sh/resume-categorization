{
 "cells": [
  {
   "cell_type": "code",
   "execution_count": 104,
   "metadata": {},
   "outputs": [],
   "source": [
    "from textattack.augmentation import WordNetAugmenter , EmbeddingAugmenter , EasyDataAugmenter , CharSwapAugmenter , CheckListAugmenter\n",
    "import random\n",
    "import pandas as pd\n",
    "import nlpaug.augmenter.word as naw\n",
    "\n",
    "# Initialize augmentation techniques\n",
    "augmenter_synonym = naw.SynonymAug(aug_src='wordnet')\n",
    "augmenter_antonym = naw.AntonymAug()\n",
    "augmenter_swap = naw.RandomWordAug(action=\"swap\")\n",
    "augmenter_delete = naw.RandomWordAug(action=\"delete\")\n",
    "\n",
    "def random_augmantation(text):\n",
    "\n",
    "    random_number = random.randint(0, 3)\n",
    "    if random_number == 0:\n",
    "        aug_text = augmenter_synonym.augment(text)\n",
    "    if random_number == 1:\n",
    "        aug_text = augmenter_antonym.augment(text)\n",
    "    if random_number == 2:\n",
    "        aug_text = augmenter_swap.augment(text)\n",
    "\n",
    "    if random_number == 3:\n",
    "        aug_text = augmenter_delete.augment(text)\n",
    "    return aug_text\n",
    "\n"
   ]
  },
  {
   "cell_type": "code",
   "execution_count": 105,
   "metadata": {},
   "outputs": [
    {
     "data": {
      "text/plain": [
       "['end each day with negative thoughts and unmake your day']"
      ]
     },
     "execution_count": 105,
     "metadata": {},
     "output_type": "execute_result"
    }
   ],
   "source": [
    "random_augmantation(\"start each day with positive thoughts and make your day\")"
   ]
  },
  {
   "cell_type": "code",
   "execution_count": 106,
   "metadata": {},
   "outputs": [],
   "source": [
    "dataset = pd.read_csv(\"data/dataset/train.csv\")"
   ]
  },
  {
   "cell_type": "code",
   "execution_count": 107,
   "metadata": {},
   "outputs": [],
   "source": [
    "from tqdm import tqdm"
   ]
  },
  {
   "cell_type": "code",
   "execution_count": 108,
   "metadata": {},
   "outputs": [
    {
     "name": "stderr",
     "output_type": "stream",
     "text": [
      "100%|██████████| 24/24 [00:09<00:00,  2.60it/s]\n"
     ]
    }
   ],
   "source": [
    "labels = dataset.Category.unique()\n",
    "resume = []\n",
    "category = []\n",
    "for label in tqdm(labels):\n",
    "    length = len(dataset[dataset['Category']==label])\n",
    "    loop_range = 150 - length\n",
    "    df = dataset[dataset['Category']==label]\n",
    "    for _ in range(loop_range):\n",
    "        df = df.sample(frac = 1)\n",
    "        text = df.iloc[0]['Resume_clean']\n",
    "        aug_text = random_augmantation(text)[0]\n",
    "        resume.append(aug_text)\n",
    "        category.append(label)\n",
    "\n",
    "\n",
    "\n"
   ]
  },
  {
   "cell_type": "code",
   "execution_count": 109,
   "metadata": {},
   "outputs": [],
   "source": [
    "aug_df = pd.DataFrame({\"Resume_clean\":resume,\"Category\":category})"
   ]
  },
  {
   "cell_type": "code",
   "execution_count": 111,
   "metadata": {},
   "outputs": [
    {
     "data": {
      "text/html": [
       "<div>\n",
       "<style scoped>\n",
       "    .dataframe tbody tr th:only-of-type {\n",
       "        vertical-align: middle;\n",
       "    }\n",
       "\n",
       "    .dataframe tbody tr th {\n",
       "        vertical-align: top;\n",
       "    }\n",
       "\n",
       "    .dataframe thead th {\n",
       "        text-align: right;\n",
       "    }\n",
       "</style>\n",
       "<table border=\"1\" class=\"dataframe\">\n",
       "  <thead>\n",
       "    <tr style=\"text-align: right;\">\n",
       "      <th></th>\n",
       "      <th>Resume_clean</th>\n",
       "      <th>Category</th>\n",
       "    </tr>\n",
       "  </thead>\n",
       "  <tbody>\n",
       "    <tr>\n",
       "      <th>0</th>\n",
       "      <td>adult education teacher omplishments cal poly ...</td>\n",
       "      <td>AGRICULTURE</td>\n",
       "    </tr>\n",
       "    <tr>\n",
       "      <th>1</th>\n",
       "      <td>volunteer front desk receptionist canteen work...</td>\n",
       "      <td>AGRICULTURE</td>\n",
       "    </tr>\n",
       "    <tr>\n",
       "      <th>2</th>\n",
       "      <td>graduate research assistant summary dedicated ...</td>\n",
       "      <td>AGRICULTURE</td>\n",
       "    </tr>\n",
       "    <tr>\n",
       "      <th>3</th>\n",
       "      <td>telephone interviewer summary organized orient...</td>\n",
       "      <td>AGRICULTURE</td>\n",
       "    </tr>\n",
       "    <tr>\n",
       "      <th>4</th>\n",
       "      <td>telephone interviewer summary organized task o...</td>\n",
       "      <td>AGRICULTURE</td>\n",
       "    </tr>\n",
       "    <tr>\n",
       "      <th>...</th>\n",
       "      <td>...</td>\n",
       "      <td>...</td>\n",
       "    </tr>\n",
       "    <tr>\n",
       "      <th>1345</th>\n",
       "      <td>policy service specialist iii professional sum...</td>\n",
       "      <td>AUTOMOBILE</td>\n",
       "    </tr>\n",
       "    <tr>\n",
       "      <th>1346</th>\n",
       "      <td>secretary ii summary energetic management prof...</td>\n",
       "      <td>AUTOMOBILE</td>\n",
       "    </tr>\n",
       "    <tr>\n",
       "      <th>1347</th>\n",
       "      <td>automobile service manager summary attentive a...</td>\n",
       "      <td>AUTOMOBILE</td>\n",
       "    </tr>\n",
       "    <tr>\n",
       "      <th>1348</th>\n",
       "      <td>general liability claim representative summary...</td>\n",
       "      <td>AUTOMOBILE</td>\n",
       "    </tr>\n",
       "    <tr>\n",
       "      <th>1349</th>\n",
       "      <td>manager summary product manager bringing years...</td>\n",
       "      <td>AUTOMOBILE</td>\n",
       "    </tr>\n",
       "  </tbody>\n",
       "</table>\n",
       "<p>1350 rows × 2 columns</p>\n",
       "</div>"
      ],
      "text/plain": [
       "                                           Resume_clean     Category\n",
       "0     adult education teacher omplishments cal poly ...  AGRICULTURE\n",
       "1     volunteer front desk receptionist canteen work...  AGRICULTURE\n",
       "2     graduate research assistant summary dedicated ...  AGRICULTURE\n",
       "3     telephone interviewer summary organized orient...  AGRICULTURE\n",
       "4     telephone interviewer summary organized task o...  AGRICULTURE\n",
       "...                                                 ...          ...\n",
       "1345  policy service specialist iii professional sum...   AUTOMOBILE\n",
       "1346  secretary ii summary energetic management prof...   AUTOMOBILE\n",
       "1347  automobile service manager summary attentive a...   AUTOMOBILE\n",
       "1348  general liability claim representative summary...   AUTOMOBILE\n",
       "1349  manager summary product manager bringing years...   AUTOMOBILE\n",
       "\n",
       "[1350 rows x 2 columns]"
      ]
     },
     "execution_count": 111,
     "metadata": {},
     "output_type": "execute_result"
    }
   ],
   "source": [
    "aug_df"
   ]
  },
  {
   "cell_type": "code",
   "execution_count": null,
   "metadata": {},
   "outputs": [],
   "source": []
  }
 ],
 "metadata": {
  "kernelspec": {
   "display_name": "monty",
   "language": "python",
   "name": "python3"
  },
  "language_info": {
   "codemirror_mode": {
    "name": "ipython",
    "version": 3
   },
   "file_extension": ".py",
   "mimetype": "text/x-python",
   "name": "python",
   "nbconvert_exporter": "python",
   "pygments_lexer": "ipython3",
   "version": "3.9.0"
  },
  "orig_nbformat": 4
 },
 "nbformat": 4,
 "nbformat_minor": 2
}
