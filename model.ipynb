{
 "cells": [
  {
   "cell_type": "code",
   "execution_count": 1,
   "metadata": {},
   "outputs": [
    {
     "name": "stderr",
     "output_type": "stream",
     "text": [
      "/home/sourav/miniconda3/envs/rc/lib/python3.10/site-packages/tqdm/auto.py:21: TqdmWarning: IProgress not found. Please update jupyter and ipywidgets. See https://ipywidgets.readthedocs.io/en/stable/user_install.html\n",
      "  from .autonotebook import tqdm as notebook_tqdm\n"
     ]
    }
   ],
   "source": [
    "import torch\n",
    "import torch.nn as nn\n",
    "import torch.optim as optim\n",
    "from torch.utils.data import DataLoader, Dataset\n",
    "from transformers import RobertaTokenizer, RobertaForSequenceClassification, AdamW\n",
    "import pandas as pd\n",
    "from sklearn.metrics import accuracy_score"
   ]
  },
  {
   "cell_type": "code",
   "execution_count": 2,
   "metadata": {},
   "outputs": [],
   "source": [
    "train_dataset = pd.read_csv('data/dataset/train.csv')\n",
    "test_dataset = pd.read_csv('data/dataset/test.csv')\n",
    "val_dataset = pd.read_csv('data/dataset/val.csv')"
   ]
  },
  {
   "cell_type": "code",
   "execution_count": 3,
   "metadata": {},
   "outputs": [],
   "source": [
    "num_class = len(train_dataset.Category.unique())"
   ]
  },
  {
   "cell_type": "code",
   "execution_count": 4,
   "metadata": {},
   "outputs": [
    {
     "data": {
      "text/plain": [
       "24"
      ]
     },
     "execution_count": 4,
     "metadata": {},
     "output_type": "execute_result"
    }
   ],
   "source": [
    "num_class"
   ]
  },
  {
   "cell_type": "code",
   "execution_count": 5,
   "metadata": {},
   "outputs": [],
   "source": [
    "\n",
    "label_mapping = {'INFORMATION-TECHNOLOGY': 0,\\\n",
    "                 'ENGINEERING':1, \\\n",
    "                 'BUSINESS-DEVELOPMENT':2, \\\n",
    "                 'SALES':3,\\\n",
    "                 'HR':4, \\\n",
    "                 'FITNESS': 5 , \\\n",
    "                 'ARTS':6,\\\n",
    "                 'ADVOCATE':7,\\\n",
    "                 'CONSTRUCTION':8,\\\n",
    "                 'AVIATION':9,\\\n",
    "                 'FINANCE':10,\\\n",
    "                 'CHEF':11,\\\n",
    "                 'ACCOUNTANT':12,\\\n",
    "                 'BANKING':13,\\\n",
    "                 'HEALTHCARE':14,\\\n",
    "                 'CONSULTANT':15,\\\n",
    "                 'PUBLIC-RELATIONS':16,\\\n",
    "                 'DESIGNER':17, \\\n",
    "                 'TEACHER':18, \\\n",
    "                 'APPAREL':19, \\\n",
    "                 'DIGITAL-MEDIA':20,\\\n",
    "                 'AGRICULTURE':21, \\\n",
    "                 'AUTOMOBILE':22,\\\n",
    "                 'BPO':23\n",
    "                 }"
   ]
  },
  {
   "cell_type": "code",
   "execution_count": 6,
   "metadata": {},
   "outputs": [],
   "source": [
    "\n",
    "class CustomDataset(Dataset):\n",
    "    def __init__(self, texts, labels, tokenizer, max_length):\n",
    "        self.texts = texts\n",
    "        self.labels = labels\n",
    "        self.tokenizer = tokenizer\n",
    "        self.max_length = max_length\n",
    "        \n",
    "    def __len__(self):\n",
    "        return len(self.texts)\n",
    "    \n",
    "    def __getitem__(self, idx):\n",
    "        text = self.texts[idx]\n",
    "        label = label_mapping[self.labels[idx]]  # Map string label to numerical label\n",
    "        \n",
    "        encoding = self.tokenizer.encode_plus(\n",
    "            text,\n",
    "            add_special_tokens=True,\n",
    "            max_length=self.max_length,\n",
    "            padding='max_length',\n",
    "            return_tensors='pt',\n",
    "            truncation=True\n",
    "        )\n",
    "        \n",
    "        return {\n",
    "            'input_ids': encoding['input_ids'].squeeze(),\n",
    "            'attention_mask': encoding['attention_mask'].squeeze(),\n",
    "            'labels': torch.tensor(label)  # Convert numerical label to tensor\n",
    "        }\n"
   ]
  },
  {
   "cell_type": "code",
   "execution_count": 7,
   "metadata": {},
   "outputs": [],
   "source": [
    "# Hyperparameters\n",
    "batch_size = 16\n",
    "num_epochs = 10\n",
    "learning_rate = 2e-5\n",
    "max_length = 514\n"
   ]
  },
  {
   "cell_type": "code",
   "execution_count": 8,
   "metadata": {},
   "outputs": [
    {
     "name": "stderr",
     "output_type": "stream",
     "text": [
      "Some weights of RobertaForSequenceClassification were not initialized from the model checkpoint at roberta-base and are newly initialized: ['classifier.out_proj.weight', 'classifier.out_proj.bias', 'classifier.dense.bias', 'classifier.dense.weight']\n",
      "You should probably TRAIN this model on a down-stream task to be able to use it for predictions and inference.\n"
     ]
    }
   ],
   "source": [
    "# Load RoBERTa tokenizer and model\n",
    "tokenizer = RobertaTokenizer.from_pretrained('roberta-base')\n",
    "model = RobertaForSequenceClassification.from_pretrained('roberta-base', num_labels=num_class)"
   ]
  },
  {
   "cell_type": "code",
   "execution_count": 9,
   "metadata": {},
   "outputs": [],
   "source": [
    "class_counts = train_dataset.Category.value_counts().to_list()\n",
    "total_samples = sum(class_counts)\n",
    "class_weights = [total_samples / count for count in class_counts]\n",
    "class_weights = torch.tensor(class_weights, dtype=torch.float)\n"
   ]
  },
  {
   "cell_type": "code",
   "execution_count": 10,
   "metadata": {},
   "outputs": [
    {
     "name": "stderr",
     "output_type": "stream",
     "text": [
      "/home/sourav/miniconda3/envs/rc/lib/python3.10/site-packages/transformers/optimization.py:411: FutureWarning: This implementation of AdamW is deprecated and will be removed in a future version. Use the PyTorch implementation torch.optim.AdamW instead, or set `no_deprecation_warning=True` to disable this warning\n",
      "  warnings.warn(\n"
     ]
    }
   ],
   "source": [
    "# Define loss function and optimizer\n",
    "criterion = nn.CrossEntropyLoss(weight=class_weights)  # Specify class weights for imbalanced data\n",
    "optimizer = AdamW(model.parameters(), lr=learning_rate)"
   ]
  },
  {
   "cell_type": "code",
   "execution_count": 11,
   "metadata": {},
   "outputs": [],
   "source": [
    "train_texts = train_dataset['Resume_clean'].values\n",
    "train_labels = train_dataset['Category'].values\n",
    "\n",
    "val_texts = val_dataset['Resume_clean'].values\n",
    "val_labels = val_dataset['Category'].values\n",
    "\n",
    "# train loader\n",
    "train_data = CustomDataset(train_texts, train_labels, tokenizer, max_length)\n",
    "train_loader = DataLoader(train_data, batch_size=batch_size, shuffle=True)\n",
    "# val loader\n",
    "val_data = CustomDataset(val_texts, val_labels, tokenizer, max_length)\n",
    "val_loader = DataLoader(val_data, batch_size=batch_size, shuffle=True)\n"
   ]
  },
  {
   "cell_type": "code",
   "execution_count": 12,
   "metadata": {},
   "outputs": [
    {
     "data": {
      "text/plain": [
       "array(['director marketing communications core omplishments initiated student leadership development program student leadership development program resulting graduates position decision making responsibility cahs student leadership apprentice program big boom business planning institute host outlook agriculture weekly radio show kpvu fm sirius xm hbcu channel experience current director marketing communications company name city state develop strategies based knowledge policy nature market trend projections facilitate growth well aid resiliency planning college triad encompassing cooperative extension program cooperative agricultural research center academics manage college internal external communications systems conjunction university public relations press marketing communications units public private sector assess translate materials print online social media create systems procedures maintain manage contact lists associates prospective associates implement event registration procedures develop systems expand customer relations attend actively participate college advisory board meetings committee meetings conference calls functions advise office dean matters important stakeholders relating college provide leadership executing marketing communications strategic planning public relations activities staff employees program specialist company name city state community economic development cooperative extension program cahs created provide solutions consultant clients area technical assistance sustainable business strategies developed creative specialized curriculum effectively reach target audience provide impactful education improve standard living satisfy stakeholders provided marketing expertise e media productions radio television programs well social media solutions online publications supervised staff students providing guidance mentorship marketing customer service business operations professional development web developer company name consulted customers perform needs analysis determine project scope define problem solutions focus increasing client revenue roi developed statements work project proposals acquire new ounts designed various types e media including retail e commerce sites content management systems web portals developed marketing content include design layout copy graphic art various electronic media productions monitored analyzed results optimize online marketing enhance customer experience focus developing long term customer relationships adjunct faculty computer aided drafting design design implement quality training subject area computer aided design productively delivered students classes cohorts per session develop innovative strategies effectively present training materials maintaining performance goals terms attendance student engagement performed interim department chairperson duties including management staff full part time instructors preserved student retention goals addressed various issues concerning student development general classroom concerns education training lead executive leadership program university georgia masters business administration mba marketing university phoenix marketing microsoft certified systems engineer mcse software applications southern methodist university bachelor science mechanical engineering computer aided design prairie view university mechanical engineering computer aided design skills adobe creative suite acrobat effects dreamweaver photoshop premiere autocad business operations business strategies computer aided design cad hardware consultant content content management creative design clientele client clients customer relations customer service database drafting e commerce engineering design flash focus government grant proposals drawing graphic art graphic indesign internet marketing inventory layout leadership mac os market trend marketing marketing communications materials meetings ess microsoft certified systems engineer mcse excel ms office office power point publisher window word needs analysis networking online marketing operating systems os organizational press processes proposals public relations publications quality radio research retail search engine optimization strategic strategic planning technical assistance television training materials website written additional information awards recognition gold level award print publication bronze level award electronic audio media production addy award advertising creative excellence multi media storyteller award distinguished service early career award multi media storyteller award conference speaking topics cyber media digital age marketing extension st century strategic planning',\n",
       "       'business development associate executive profile award winning sales executive international sales experience skill highlights professional experience business development associate january current company name city state responsible prospecting developing relationships unqualified qualified sales leads market master sales force cold calls networking generated sales calls per day distributed sales materials appropriate future clients secured appointments district mangers assigned built relationships district managers worked together securing new leads securing appointments proper contact client qualified would assist way win sale managing director january january company name city state marketing management company telemarketing firms hospitality hotel industry projects include elerated financial center llc r carter llc ramada inn stuart fl tourist information center martin county stuart florida mrc contracted mr carter llc elerated financial center llc responsible telemarketing functions sales sales relationship building administration million dollar company handled consumer credit card interest rate reductions federal credit cart act ramada responsible guest services group sales conference services catering restaurant management annual million dollar budget also instituted program cold calling utilizing crs ramada prospect potential clients sales promotion client relationship development done also variety marketing methods information center owned managed office exit primarily also sales prospecting calls potential clients would utilize rack sales department organized county hotel community throughout state florida also flausa state florida general manager january january company name city state developed operated small thirty room upscale resort responsible guest services rooms operations ounting sales marketing developed strong sales prospecting follow program new clients new prospects sales avenues included public relations consumer awareness first year annual revenue produced director sales january january company name city state responsible sales marketing staff sales aspects resort included public relations client base relationship awareness building staff training follow sales promotion processes property annual revenue exceeded million director travel industry sales january january company name city state indian river plantation resort yacht harbor manager duty group sales manager director travel industry sales domestic international leading group sales manager four years appointed director developed international domestic leisure markets portion leisure market room revenue increased million months senior group sales manager january january company name city state management trainee director conference services catering group sales manager resort manager duty trained departments property responsible groups group bookings held property involved midwest northeast florida markets instituted strong awareness sales process produced positive results property bottom line annual revenues exceeded million dollars leading group sales manager exceeding goal production years assistant manager january january company name city state concentration group front back house food beverage division primary employment college education b b management xavier university city state management b marketing finance xavier university city state marketing finance interests ymca martin county molly house hibiscus house children council arts martin county economic council martin county sunshine state games treasure coast stuart main street pineapple festival jensen beach special olympics martin county academy travel tourism martin county treasure coast tourism committee council chambers hutchinson island tourism development council committee martin county st lucie county sunfest palm beach jensen beach chamber commerce stuart martin county chamber commerce hobe sound chamber commerce chili cookoff junior league martin county travel auction palm beach hospitality sales marketing travel auction jensen beach chamber commerce travel auction soroptomist international travel auction kiwanis jensen beach dow finsterwald golf classic travel auction jensen beach oak tree program jensen beach chamber commerce martin county cultural arts travel auction artsfest academy travel tourism professional affiliations american hotel motel association palm beach martin county hospitality sales marketing association international palm beach lifetime honorary advisor hutchinson island tourism committee treasure coast stuart martin county chamber commerce jensen beach chamber commerce skull international palm beach chamber commerce palm beach international game fish tournament observers international game fish association memberships flausa kiwanis international jensen beach historical society martin county hotel motel association martin county palm beach hospitality sales marketing association palm beach hutchinson island tourism committee treasure coast stuart martin county chamber commerce jensen beach chamber commerce skull international palm beach chamber commerce palm beach additional information volunteer services ymca martin county molly house hibiscus house children council arts martin county economic council martin county sunshine state games treasure coast stuart main street pineapple festival jensen beach special olympics martin county academy travel tourism martin county treasure coast tourism committee council chambers hutchinson island tourism development council committee martin county st lucie county sunfest palm beach jensen beach chamber commerce stuart martin county chamber commerce hobe sound chamber commerce chili cookoff junior league martin county travel auction palm beach hospitality sales marketing travel auction jensen beach chamber commerce travel auction soroptomist international travel auction kiwanis jensen beach dow finsterwald golf classic travel auction jensen beach oak tree program jensen beach chamber commerce martin county cultural arts travel auction artsfest academy travel tourism skills ounting budget cold calling credit client clients staff training financial director marketing market marketing management materials excel office outlook express power point win word networking processes promotion public relations relationship building restaurant management sales sales manager telemarketing',\n",
       "       'sales consultant summary talented sales professional effectively multi tasks balances customer needs company demands efficiently builds loyalty long term relationships customers consistently reaching sales targets omplishments golden eagle award winner golden eagle award winner awarded service star award providing excellent customer service trained business development proven sales track record omplished relationship selling adept closing sales ms office proficiency iowa territory specialist north american monthly sales mvp experience sales consultant november current company name city state proactively manages day day activities supervision team customer service representatives responsible targeted results customer retention route sales r collection answered customers questions regarding products prices availability responded customer inquiries timely manner collaborated members departments complete sales transactions golden eagle award winner march north america sales mvp time k club member proactively sought new customers secured new sales company expanded market share converting prospective clients new customers providing solutions business needs efficiently prospected landed new customers securing strong presence company within assigned area operations supervisor november april company name city state delighted customer offering simple yet superior level personalized professional service ensured inviting environment customers fellow team members maintaining neat clean store exemplified clean stock store priorities maintained proper procedures cash handling back end processing merchandise led store shrink safety awareness program advised store team leaders unusual activities unsafe practices directed associates participated setting store planograms validated store merchandising standards including data integrity maintained times monitored operational reports identify opportunities improved execution implementation senior communications consultant february june company name city state provided immediate supervision group employees assigning tasks checking work periodic intervals maintaining schedules possessed enthusiasm necessary motivate dedicated sales team meet exceed sales objective maintaining competitive fun work environment responsible operations sprint nextel retail store familiar aspects wireless retail including hiring scheduling training marketing loss prevention team leadership keeping date local competitor services primary point contact employees retail store well customer requiring extra attention achieve sales goals led team inside sales outside events outbound marketing developed team approach problem solving encouraged personal development employees led example responsibilities also included ensuring employees trained date features operation equipment essories worked member management team high traffic retail environment created outbound sales marketing presentations prospective business clients awarded service star award providing excellent customer service performed opening closing retail duties including reconciliation cash tills education bachelor marketing university nebraska city state us bachelor degree marketing may university nebraska lincoln nebraska b b marketing b b marketing professional affiliations time k club presentations created outbound sales marketing presentations prospective business clients skills sales award clients marketing market share model view presenter mvp new sales sales consultant sales solutions retail retail marketing operations cash exceed inside sales loss prevention problem solving sales goals sales team scheduling training wireless wireless retail marketing closing customer service receptionist reconciliation retail sales sales r collection customer inquiries route sales service center business development closing sales monthly sales ms office sales professional sales targets territory back end cash handling data integrity merchandising',\n",
       "       ...,\n",
       "       'information technology specialist professional summary seeking obtain career information assurance focus cyber network defense seeking obtain career information assurance focus cyber network defense seeking obtain career information assurance focus cyber network defense skills desktops ethernet cables cisco routers video sound cards cd rom drives multiplexors scanners monitors switches tcp ip configuration installing adding deleting user ounts active directory strong software application knowledge avaya microsoft office remedy experience information technology service management itsm desktops ethernet cables cisco routers video sound cards cd rom drives multiplexors scanners monitors switches tcp ip configuration installing adding deleting user ounts active directory strong software application knowledge avaya microsoft office remedy experience information technology service management itsm experience information technology strong software application knowledge avaya microsoft office remedy installing adding deleting user ounts active directory ethernet cables video sound cards cd rom drives multiplexors scanners monitors switches tcp ip configuration installing adding deleting user ounts active directory strong software application knowledge avaya microsoft office remedy experience information technology service management itsm experience information technology strong software application knowledge avaya microsoft office remedy installing adding deleting user ounts active directory experience information technology service managment itsm ethernet cables cd rom drives scanners tcp ip configuration installing adding deleting user ounts active directory strong software application knowledge avaya microsoft office remedy experience information technology service management itsm experience information technology strong software application knowledge avaya microsoft office remedy installing adding deleting user ounts active directory experience information technology service managment itsm work history information technology specialist current company name defines scope plans deliverables assigned projects coordinates collaborates others analyzing collected requirements ensure plans identified solutions meet customer needs expectations confirms prioritizes project plans deliverables customer participates business technical information technology solution implementations upgrades enhancement conversions understands uses appropriate tools analyze identify resolve business technical problems applies metrics monitor performance measure key project criteria performs maintenance troubleshoots network connectivity printer hardware issues uses site remote assists users deployment maintenance desktop workstations company name diplomatic security service department state protected u diplomats visiting foreign dignitaries diplomatic missions maintained security awareness federal environment assisted employee management interacted vip personnel members senate foreign domestic diplomats secretary state information technology interpreter company name assisted united states military training foreign nationals information technology basic troubleshooting basic system set diagnosed computer errors provided technical support backed restored organizational data files systems installed configured upgraded pc software operating systems created updated support tickets per standard operating procedures provided customer support email hosted applications desktop system network problems within defined service level agreements languages fluent dari dutch russian',\n",
       "       'instructional designer summary motivating talented instructional designer driven inspire students pursue academic personal excellence strives create challenging engaging learning environment students become life long learners highlights effective use multi media teaching tools exceptional written verbal communicator online course instructor innovative teaching methods omplished academic advisor innovative thinker natural leader experience company name august current instructional designer city state collaborate one one subject matter experts new online course development design appraise course creation quality identifying providing developmental needs take corrective action necessary apply appropriate learning theory instructional theory applications media online instruction plan design develop effective instructional materials functional intuitive informative consistent sound instructional design principles online learning plan develop faculty workshops trainings areas instructional design use specific instructional technology tools assist faculty learning educational technology online instructional methods remain current thorough understanding emerging applications instructional multimedia instructional technology trends online education implement improvements research evaluate recommend appropriate hardware software achieve academic objectives peer reviewer certified quality matters adjunct instructor teaching introduction online learning college studies company name july august internet support specialist city state answered basic complex computer questions related college learning management system blackboard faculty person via e mail telephone facilitated start internet courses faculty students handled initial contact internet students taught login procedures start skills students learning effectively online provided faculty training support blackboard software provided training support instructional internet software smarthinking turnitin various audio learning object software prepared tutorials faculty students common procedures pertained online learning worked instructional designer provide group trainings faculty blackboard distance learning software maintained course evaluation database distributed course evaluation information appropriate personnel archived courses regularly help recycling process semesters maintained web pages distance learning department company name july july registration facility assistant city state oversaw midterm final grading credit classes performed clerical tracking rosters incomplete grades grade verification coordinated student nonattendance letters grade mailings scheduled facilities college community use kept billing records forwarded ounts payable processed input course master files outreach community education courses assisted registering students collecting tuition fees processing add drops handled phone registration billing updated needed registration records information college web page campus portal assisted staff members office needed company name december june bookkeeper city state processed payables payroll bank reconciliations invoicing monthly sales tax quarterly payroll reports handled general bookkeeping duties company name february june ounts payable coordinator city state processed invoicing operating expenses payment ensured proper approval invoices payment processed payment expenses incurred company activities operations trained new employees travel expense reimbursement procedures company name august may ounts receivable technician city state receipted incoming cash credit cards checks invoiced receipted billed third party ounts responsible daily deposit assisted students billing questions company name july may program coordinator city state maintained three department budgets created monthly contracts adjunct faculty created schedules academy students created new updated information website program college sports teams evaluated instructors ensured campus security supervision instructors security interns work studies scheduled maintained records safety training classes ensured overall smooth operation three departments coordinating faculty students staff general public lead instructor several classes program academy company name september july service coordinator city state coordinated services staff kept training records updated responsible clerical support residential vocational supervisors processed insurance billing typed patient reports speech therapist company name may september ounting clerk city state processed weekly ounts payable maintained saving checking ounts clients assisted ounts receivable billing recording payments processed bimonthly client payroll education university wyoming master education instructional technology city state franklin university bachelor science public safety management city state colorado northwestern community college associate applied science criminal justice city state technical trades institute associate upational studies ounting city state interests former volunteer er coach local youth former victim services advocate former board member volunteer fire department skills course development additional information former volunteer er coach local youth former victim services advocate former board member volunteer fire department',\n",
       "       'color consultant summary adaptable ambitious administrative professional years experience ounting finance real estate well customer service experience november current company name city state color consultant sephora one largest cosmetic retailers world wide color consultant daily responsibilities include achieving stores daily sales goal assisting clients product purchases analyzing skin condition make appropriate product recommendations working team colleagues participating weekly competitions games themes etc stocking shelves supplies organizing displays developing positive customer relationships friendly greetings excellent service june september company name city state office manager mchugh cpa group family owned ounting office located atlanta ga microsoft proficency meticulous attention detail strong problem solving customer service required skills needed office manager daily responsibilities preperation tax returns e filing poa power attorney managed ounts payable recievable oversaw inventory office supply purchases helped distribute employee notices mail around office performed complex general ounting functions including preperation journal entries ount analysis balance sheet reconciliations screened applicant resumes coordinated phone person interviews march july company name city state receptionist worked max entry level receptionist daily responsibilities included planned coordinated logistics materials board meetings committee meetings staff events managed office supplies vendors organization keep coordinated scheduled arranged meeting travel calendars including business social events opened properly distributed incoming mail directed guests routed deliveries courier services education may norwich free academy city state high school skills excellent communication skills articulate well spoken urate detailed microsoft office profiency social media knowledge team building invoice rocessing strong client relations'],\n",
       "      dtype=object)"
      ]
     },
     "execution_count": 12,
     "metadata": {},
     "output_type": "execute_result"
    }
   ],
   "source": [
    "train_texts = train_dataset['Resume_clean'].values\n",
    "train_texts"
   ]
  },
  {
   "cell_type": "code",
   "execution_count": 13,
   "metadata": {},
   "outputs": [
    {
     "data": {
      "text/plain": [
       "RobertaForSequenceClassification(\n",
       "  (roberta): RobertaModel(\n",
       "    (embeddings): RobertaEmbeddings(\n",
       "      (word_embeddings): Embedding(50265, 768, padding_idx=1)\n",
       "      (position_embeddings): Embedding(514, 768, padding_idx=1)\n",
       "      (token_type_embeddings): Embedding(1, 768)\n",
       "      (LayerNorm): LayerNorm((768,), eps=1e-05, elementwise_affine=True)\n",
       "      (dropout): Dropout(p=0.1, inplace=False)\n",
       "    )\n",
       "    (encoder): RobertaEncoder(\n",
       "      (layer): ModuleList(\n",
       "        (0-11): 12 x RobertaLayer(\n",
       "          (attention): RobertaAttention(\n",
       "            (self): RobertaSelfAttention(\n",
       "              (query): Linear(in_features=768, out_features=768, bias=True)\n",
       "              (key): Linear(in_features=768, out_features=768, bias=True)\n",
       "              (value): Linear(in_features=768, out_features=768, bias=True)\n",
       "              (dropout): Dropout(p=0.1, inplace=False)\n",
       "            )\n",
       "            (output): RobertaSelfOutput(\n",
       "              (dense): Linear(in_features=768, out_features=768, bias=True)\n",
       "              (LayerNorm): LayerNorm((768,), eps=1e-05, elementwise_affine=True)\n",
       "              (dropout): Dropout(p=0.1, inplace=False)\n",
       "            )\n",
       "          )\n",
       "          (intermediate): RobertaIntermediate(\n",
       "            (dense): Linear(in_features=768, out_features=3072, bias=True)\n",
       "            (intermediate_act_fn): GELUActivation()\n",
       "          )\n",
       "          (output): RobertaOutput(\n",
       "            (dense): Linear(in_features=3072, out_features=768, bias=True)\n",
       "            (LayerNorm): LayerNorm((768,), eps=1e-05, elementwise_affine=True)\n",
       "            (dropout): Dropout(p=0.1, inplace=False)\n",
       "          )\n",
       "        )\n",
       "      )\n",
       "    )\n",
       "  )\n",
       "  (classifier): RobertaClassificationHead(\n",
       "    (dense): Linear(in_features=768, out_features=768, bias=True)\n",
       "    (dropout): Dropout(p=0.1, inplace=False)\n",
       "    (out_proj): Linear(in_features=768, out_features=24, bias=True)\n",
       "  )\n",
       ")"
      ]
     },
     "execution_count": 13,
     "metadata": {},
     "output_type": "execute_result"
    }
   ],
   "source": [
    "device = torch.device(\"cuda\" if torch.cuda.is_available() else \"cpu\")\n",
    "model.to(device)"
   ]
  },
  {
   "cell_type": "code",
   "execution_count": 21,
   "metadata": {},
   "outputs": [],
   "source": [
    "device = torch.device(\"cuda\")  # Use GPU 0"
   ]
  },
  {
   "cell_type": "code",
   "execution_count": 22,
   "metadata": {},
   "outputs": [
    {
     "data": {
      "text/plain": [
       "device(type='cuda')"
      ]
     },
     "execution_count": 22,
     "metadata": {},
     "output_type": "execute_result"
    }
   ],
   "source": [
    "device"
   ]
  },
  {
   "cell_type": "code",
   "execution_count": 23,
   "metadata": {},
   "outputs": [
    {
     "data": {
      "text/plain": [
       "Category\n",
       "INFORMATION-TECHNOLOGY    136\n",
       "ENGINEERING               130\n",
       "BUSINESS-DEVELOPMENT      128\n",
       "SALES                     125\n",
       "HR                        123\n",
       "FITNESS                   117\n",
       "ARTS                      111\n",
       "ADVOCATE                  110\n",
       "CONSTRUCTION              109\n",
       "AVIATION                   94\n",
       "FINANCE                    94\n",
       "CHEF                       94\n",
       "ACCOUNTANT                 94\n",
       "BANKING                    92\n",
       "HEALTHCARE                 92\n",
       "CONSULTANT                 92\n",
       "PUBLIC-RELATIONS           89\n",
       "DESIGNER                   86\n",
       "TEACHER                    82\n",
       "APPAREL                    78\n",
       "DIGITAL-MEDIA              77\n",
       "AGRICULTURE                50\n",
       "AUTOMOBILE                 29\n",
       "BPO                        18\n",
       "Name: count, dtype: int64"
      ]
     },
     "execution_count": 23,
     "metadata": {},
     "output_type": "execute_result"
    }
   ],
   "source": [
    "train_dataset.Category.value_counts()"
   ]
  },
  {
   "cell_type": "code",
   "execution_count": null,
   "metadata": {},
   "outputs": [],
   "source": []
  },
  {
   "cell_type": "code",
   "execution_count": 24,
   "metadata": {},
   "outputs": [
    {
     "ename": "RuntimeError",
     "evalue": "CUDA error: device-side assert triggered\nCUDA kernel errors might be asynchronously reported at some other API call, so the stacktrace below might be incorrect.\nFor debugging consider passing CUDA_LAUNCH_BLOCKING=1.\nCompile with `TORCH_USE_CUDA_DSA` to enable device-side assertions.\n",
     "output_type": "error",
     "traceback": [
      "\u001b[0;31m---------------------------------------------------------------------------\u001b[0m",
      "\u001b[0;31mRuntimeError\u001b[0m                              Traceback (most recent call last)",
      "Cell \u001b[0;32mIn[24], line 4\u001b[0m\n\u001b[1;32m      2\u001b[0m model\u001b[39m.\u001b[39mtrain()\n\u001b[1;32m      3\u001b[0m \u001b[39mfor\u001b[39;00m batch \u001b[39min\u001b[39;00m train_loader:\n\u001b[0;32m----> 4\u001b[0m     input_ids \u001b[39m=\u001b[39m batch[\u001b[39m'\u001b[39;49m\u001b[39minput_ids\u001b[39;49m\u001b[39m'\u001b[39;49m]\u001b[39m.\u001b[39;49mto(device)\n\u001b[1;32m      5\u001b[0m     attention_mask \u001b[39m=\u001b[39m batch[\u001b[39m'\u001b[39m\u001b[39mattention_mask\u001b[39m\u001b[39m'\u001b[39m]\u001b[39m.\u001b[39mto(device)\n\u001b[1;32m      6\u001b[0m     labels \u001b[39m=\u001b[39m batch[\u001b[39m'\u001b[39m\u001b[39mlabels\u001b[39m\u001b[39m'\u001b[39m]\u001b[39m.\u001b[39mto(device)\n",
      "\u001b[0;31mRuntimeError\u001b[0m: CUDA error: device-side assert triggered\nCUDA kernel errors might be asynchronously reported at some other API call, so the stacktrace below might be incorrect.\nFor debugging consider passing CUDA_LAUNCH_BLOCKING=1.\nCompile with `TORCH_USE_CUDA_DSA` to enable device-side assertions.\n"
     ]
    }
   ],
   "source": [
    "\n",
    "for epoch in range(num_epochs):\n",
    "    model.train()\n",
    "    for batch in train_loader:\n",
    "        input_ids = batch['input_ids'].to(device)\n",
    "        attention_mask = batch['attention_mask'].to(device)\n",
    "        labels = batch['labels'].to(device)\n",
    "        \n",
    "        optimizer.zero_grad()\n",
    "        outputs = model(input_ids, attention_mask=attention_mask, labels=labels)\n",
    "        \n",
    "        loss = outputs.loss\n",
    "        loss.backward()\n",
    "        optimizer.step()\n",
    "    model.eval()\n",
    "    with torch.no_grad():\n",
    "        all_predictions = []\n",
    "        all_labels = []\n",
    "\n",
    "        total_loss = 0.0\n",
    "        for batch in val_loader:\n",
    "            input_ids = batch['input_ids'].to(device)\n",
    "            attention_mask = batch['attention_mask'].to(device)\n",
    "            labels = batch['labels'].to(device)\n",
    "\n",
    "            outputs = model(input_ids, attention_mask=attention_mask, labels=labels)\n",
    "            loss = outputs.loss\n",
    "            total_loss += loss.item()\n",
    "\n",
    "            predictions = outputs.logits.argmax(dim=1).cpu().numpy()\n",
    "            all_predictions.extend(predictions)\n",
    "            all_labels.extend(labels.cpu().numpy())\n",
    "\n",
    "        accuracy = accuracy_score(all_labels, all_predictions)\n",
    "        average_loss = total_loss / len(val_loader)\n",
    "\n",
    "        print(f\"Epoch [{epoch+1}/{num_epochs}] - \"\n",
    "              f\"Accuracy: {accuracy:.4f}, Loss: {average_loss:.4f}\")\n",
    "\n",
    "        if accuracy > best_accuracy:\n",
    "            best_accuracy = accuracy\n",
    "            best_model = model.state_dict()\n",
    "            early_stopping_counter = 0\n",
    "        else:\n",
    "            early_stopping_counter += 1\n",
    "            if early_stopping_counter >= 5:\n",
    "                print(f\"Early stopping at epoch {epoch+1}\")\n",
    "                break\n",
    "\n",
    "if best_model is not None:\n",
    "    torch.save(best_model, \"best_model.pth\")\n",
    "# This code will train the model, print accuracy and loss per epoch based on the test data, and implement early stopping when the accuracy doesn't improve for a specified number of epochs. The best model based on validation accuracy will be saved to \"best_model.pth\" at the end. Make sure to replace placeholders like train_texts, train_labels, test_texts, test_labels, and adjust the num_classes and class_weights based on your problem.\n",
    "\n",
    "\n",
    "\n",
    "\n",
    "\n"
   ]
  },
  {
   "cell_type": "code",
   "execution_count": null,
   "metadata": {},
   "outputs": [],
   "source": []
  }
 ],
 "metadata": {
  "kernelspec": {
   "display_name": "rc",
   "language": "python",
   "name": "python3"
  },
  "language_info": {
   "codemirror_mode": {
    "name": "ipython",
    "version": 3
   },
   "file_extension": ".py",
   "mimetype": "text/x-python",
   "name": "python",
   "nbconvert_exporter": "python",
   "pygments_lexer": "ipython3",
   "version": "3.10.12"
  },
  "orig_nbformat": 4
 },
 "nbformat": 4,
 "nbformat_minor": 2
}
